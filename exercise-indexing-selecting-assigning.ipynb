{
 "cells": [
  {
   "cell_type": "markdown",
   "id": "fbf7784b",
   "metadata": {
    "papermill": {
     "duration": 0.013594,
     "end_time": "2023-09-06T09:48:24.721597",
     "exception": false,
     "start_time": "2023-09-06T09:48:24.708003",
     "status": "completed"
    },
    "tags": []
   },
   "source": [
    "**This notebook is an exercise in the [Pandas](https://www.kaggle.com/learn/pandas) course.  You can reference the tutorial at [this link](https://www.kaggle.com/residentmario/indexing-selecting-assigning).**\n",
    "\n",
    "---\n"
   ]
  },
  {
   "cell_type": "markdown",
   "id": "0a3811e7",
   "metadata": {
    "papermill": {
     "duration": 0.01259,
     "end_time": "2023-09-06T09:48:24.747383",
     "exception": false,
     "start_time": "2023-09-06T09:48:24.734793",
     "status": "completed"
    },
    "tags": []
   },
   "source": [
    "# Introduction\n",
    "\n",
    "In this set of exercises we will work with the [Wine Reviews dataset](https://www.kaggle.com/zynicide/wine-reviews). "
   ]
  },
  {
   "cell_type": "markdown",
   "id": "e0f66cd5",
   "metadata": {
    "papermill": {
     "duration": 0.012249,
     "end_time": "2023-09-06T09:48:24.773059",
     "exception": false,
     "start_time": "2023-09-06T09:48:24.760810",
     "status": "completed"
    },
    "tags": []
   },
   "source": [
    "Run the following cell to load your data and some utility functions (including code to check your answers)."
   ]
  },
  {
   "cell_type": "code",
   "execution_count": 1,
   "id": "9c956b1e",
   "metadata": {
    "execution": {
     "iopub.execute_input": "2023-09-06T09:48:24.801377Z",
     "iopub.status.busy": "2023-09-06T09:48:24.800902Z",
     "iopub.status.idle": "2023-09-06T09:48:28.998456Z",
     "shell.execute_reply": "2023-09-06T09:48:28.997257Z"
    },
    "papermill": {
     "duration": 4.216899,
     "end_time": "2023-09-06T09:48:29.002384",
     "exception": false,
     "start_time": "2023-09-06T09:48:24.785485",
     "status": "completed"
    },
    "tags": []
   },
   "outputs": [
    {
     "name": "stdout",
     "output_type": "stream",
     "text": [
      "Setup complete.\n"
     ]
    }
   ],
   "source": [
    "import pandas as pd\n",
    "\n",
    "reviews = pd.read_csv(\"../input/wine-reviews/winemag-data-130k-v2.csv\", index_col=0)\n",
    "pd.set_option(\"display.max_rows\", 5)\n",
    "\n",
    "from learntools.core import binder; binder.bind(globals())\n",
    "from learntools.pandas.indexing_selecting_and_assigning import *\n",
    "print(\"Setup complete.\")"
   ]
  },
  {
   "cell_type": "markdown",
   "id": "a2de8502",
   "metadata": {
    "papermill": {
     "duration": 0.012413,
     "end_time": "2023-09-06T09:48:29.027581",
     "exception": false,
     "start_time": "2023-09-06T09:48:29.015168",
     "status": "completed"
    },
    "tags": []
   },
   "source": [
    "Look at an overview of your data by running the following line."
   ]
  },
  {
   "cell_type": "code",
   "execution_count": 2,
   "id": "ab6f9b15",
   "metadata": {
    "execution": {
     "iopub.execute_input": "2023-09-06T09:48:29.055425Z",
     "iopub.status.busy": "2023-09-06T09:48:29.054719Z",
     "iopub.status.idle": "2023-09-06T09:48:29.082279Z",
     "shell.execute_reply": "2023-09-06T09:48:29.080940Z"
    },
    "papermill": {
     "duration": 0.04504,
     "end_time": "2023-09-06T09:48:29.085235",
     "exception": false,
     "start_time": "2023-09-06T09:48:29.040195",
     "status": "completed"
    },
    "tags": []
   },
   "outputs": [
    {
     "data": {
      "text/html": [
       "<div>\n",
       "<style scoped>\n",
       "    .dataframe tbody tr th:only-of-type {\n",
       "        vertical-align: middle;\n",
       "    }\n",
       "\n",
       "    .dataframe tbody tr th {\n",
       "        vertical-align: top;\n",
       "    }\n",
       "\n",
       "    .dataframe thead th {\n",
       "        text-align: right;\n",
       "    }\n",
       "</style>\n",
       "<table border=\"1\" class=\"dataframe\">\n",
       "  <thead>\n",
       "    <tr style=\"text-align: right;\">\n",
       "      <th></th>\n",
       "      <th>country</th>\n",
       "      <th>description</th>\n",
       "      <th>designation</th>\n",
       "      <th>points</th>\n",
       "      <th>price</th>\n",
       "      <th>province</th>\n",
       "      <th>region_1</th>\n",
       "      <th>region_2</th>\n",
       "      <th>taster_name</th>\n",
       "      <th>taster_twitter_handle</th>\n",
       "      <th>title</th>\n",
       "      <th>variety</th>\n",
       "      <th>winery</th>\n",
       "    </tr>\n",
       "  </thead>\n",
       "  <tbody>\n",
       "    <tr>\n",
       "      <th>0</th>\n",
       "      <td>Italy</td>\n",
       "      <td>Aromas include tropical fruit, broom, brimston...</td>\n",
       "      <td>Vulkà Bianco</td>\n",
       "      <td>87</td>\n",
       "      <td>NaN</td>\n",
       "      <td>Sicily &amp; Sardinia</td>\n",
       "      <td>Etna</td>\n",
       "      <td>NaN</td>\n",
       "      <td>Kerin O’Keefe</td>\n",
       "      <td>@kerinokeefe</td>\n",
       "      <td>Nicosia 2013 Vulkà Bianco  (Etna)</td>\n",
       "      <td>White Blend</td>\n",
       "      <td>Nicosia</td>\n",
       "    </tr>\n",
       "    <tr>\n",
       "      <th>1</th>\n",
       "      <td>Portugal</td>\n",
       "      <td>This is ripe and fruity, a wine that is smooth...</td>\n",
       "      <td>Avidagos</td>\n",
       "      <td>87</td>\n",
       "      <td>15.0</td>\n",
       "      <td>Douro</td>\n",
       "      <td>NaN</td>\n",
       "      <td>NaN</td>\n",
       "      <td>Roger Voss</td>\n",
       "      <td>@vossroger</td>\n",
       "      <td>Quinta dos Avidagos 2011 Avidagos Red (Douro)</td>\n",
       "      <td>Portuguese Red</td>\n",
       "      <td>Quinta dos Avidagos</td>\n",
       "    </tr>\n",
       "    <tr>\n",
       "      <th>2</th>\n",
       "      <td>US</td>\n",
       "      <td>Tart and snappy, the flavors of lime flesh and...</td>\n",
       "      <td>NaN</td>\n",
       "      <td>87</td>\n",
       "      <td>14.0</td>\n",
       "      <td>Oregon</td>\n",
       "      <td>Willamette Valley</td>\n",
       "      <td>Willamette Valley</td>\n",
       "      <td>Paul Gregutt</td>\n",
       "      <td>@paulgwine</td>\n",
       "      <td>Rainstorm 2013 Pinot Gris (Willamette Valley)</td>\n",
       "      <td>Pinot Gris</td>\n",
       "      <td>Rainstorm</td>\n",
       "    </tr>\n",
       "    <tr>\n",
       "      <th>3</th>\n",
       "      <td>US</td>\n",
       "      <td>Pineapple rind, lemon pith and orange blossom ...</td>\n",
       "      <td>Reserve Late Harvest</td>\n",
       "      <td>87</td>\n",
       "      <td>13.0</td>\n",
       "      <td>Michigan</td>\n",
       "      <td>Lake Michigan Shore</td>\n",
       "      <td>NaN</td>\n",
       "      <td>Alexander Peartree</td>\n",
       "      <td>NaN</td>\n",
       "      <td>St. Julian 2013 Reserve Late Harvest Riesling ...</td>\n",
       "      <td>Riesling</td>\n",
       "      <td>St. Julian</td>\n",
       "    </tr>\n",
       "    <tr>\n",
       "      <th>4</th>\n",
       "      <td>US</td>\n",
       "      <td>Much like the regular bottling from 2012, this...</td>\n",
       "      <td>Vintner's Reserve Wild Child Block</td>\n",
       "      <td>87</td>\n",
       "      <td>65.0</td>\n",
       "      <td>Oregon</td>\n",
       "      <td>Willamette Valley</td>\n",
       "      <td>Willamette Valley</td>\n",
       "      <td>Paul Gregutt</td>\n",
       "      <td>@paulgwine</td>\n",
       "      <td>Sweet Cheeks 2012 Vintner's Reserve Wild Child...</td>\n",
       "      <td>Pinot Noir</td>\n",
       "      <td>Sweet Cheeks</td>\n",
       "    </tr>\n",
       "  </tbody>\n",
       "</table>\n",
       "</div>"
      ],
      "text/plain": [
       "    country                                        description  \\\n",
       "0     Italy  Aromas include tropical fruit, broom, brimston...   \n",
       "1  Portugal  This is ripe and fruity, a wine that is smooth...   \n",
       "2        US  Tart and snappy, the flavors of lime flesh and...   \n",
       "3        US  Pineapple rind, lemon pith and orange blossom ...   \n",
       "4        US  Much like the regular bottling from 2012, this...   \n",
       "\n",
       "                          designation  points  price           province  \\\n",
       "0                        Vulkà Bianco      87    NaN  Sicily & Sardinia   \n",
       "1                            Avidagos      87   15.0              Douro   \n",
       "2                                 NaN      87   14.0             Oregon   \n",
       "3                Reserve Late Harvest      87   13.0           Michigan   \n",
       "4  Vintner's Reserve Wild Child Block      87   65.0             Oregon   \n",
       "\n",
       "              region_1           region_2         taster_name  \\\n",
       "0                 Etna                NaN       Kerin O’Keefe   \n",
       "1                  NaN                NaN          Roger Voss   \n",
       "2    Willamette Valley  Willamette Valley        Paul Gregutt   \n",
       "3  Lake Michigan Shore                NaN  Alexander Peartree   \n",
       "4    Willamette Valley  Willamette Valley        Paul Gregutt   \n",
       "\n",
       "  taster_twitter_handle                                              title  \\\n",
       "0          @kerinokeefe                  Nicosia 2013 Vulkà Bianco  (Etna)   \n",
       "1            @vossroger      Quinta dos Avidagos 2011 Avidagos Red (Douro)   \n",
       "2           @paulgwine       Rainstorm 2013 Pinot Gris (Willamette Valley)   \n",
       "3                   NaN  St. Julian 2013 Reserve Late Harvest Riesling ...   \n",
       "4           @paulgwine   Sweet Cheeks 2012 Vintner's Reserve Wild Child...   \n",
       "\n",
       "          variety               winery  \n",
       "0     White Blend              Nicosia  \n",
       "1  Portuguese Red  Quinta dos Avidagos  \n",
       "2      Pinot Gris            Rainstorm  \n",
       "3        Riesling           St. Julian  \n",
       "4      Pinot Noir         Sweet Cheeks  "
      ]
     },
     "execution_count": 2,
     "metadata": {},
     "output_type": "execute_result"
    }
   ],
   "source": [
    "reviews.head()"
   ]
  },
  {
   "cell_type": "markdown",
   "id": "a85d485e",
   "metadata": {
    "papermill": {
     "duration": 0.012829,
     "end_time": "2023-09-06T09:48:29.111486",
     "exception": false,
     "start_time": "2023-09-06T09:48:29.098657",
     "status": "completed"
    },
    "tags": []
   },
   "source": [
    "# Exercises"
   ]
  },
  {
   "cell_type": "markdown",
   "id": "b98375cd",
   "metadata": {
    "papermill": {
     "duration": 0.012633,
     "end_time": "2023-09-06T09:48:29.137427",
     "exception": false,
     "start_time": "2023-09-06T09:48:29.124794",
     "status": "completed"
    },
    "tags": []
   },
   "source": [
    "## 1.\n",
    "\n",
    "Select the `description` column from `reviews` and assign the result to the variable `desc`."
   ]
  },
  {
   "cell_type": "code",
   "execution_count": 3,
   "id": "23510780",
   "metadata": {
    "execution": {
     "iopub.execute_input": "2023-09-06T09:48:29.166437Z",
     "iopub.status.busy": "2023-09-06T09:48:29.165268Z",
     "iopub.status.idle": "2023-09-06T09:48:29.174959Z",
     "shell.execute_reply": "2023-09-06T09:48:29.173901Z"
    },
    "papermill": {
     "duration": 0.026935,
     "end_time": "2023-09-06T09:48:29.177399",
     "exception": false,
     "start_time": "2023-09-06T09:48:29.150464",
     "status": "completed"
    },
    "tags": []
   },
   "outputs": [
    {
     "data": {
      "application/javascript": [
       "parent.postMessage({\"jupyterEvent\": \"custom.exercise_interaction\", \"data\": {\"outcomeType\": 1, \"valueTowardsCompletion\": 0.1111111111111111, \"interactionType\": 1, \"questionType\": 1, \"questionId\": \"1_SelectDescCol\", \"learnToolsVersion\": \"0.3.4\", \"failureMessage\": \"\", \"exceptionClass\": \"\", \"trace\": \"\"}}, \"*\")"
      ],
      "text/plain": [
       "<IPython.core.display.Javascript object>"
      ]
     },
     "metadata": {},
     "output_type": "display_data"
    },
    {
     "data": {
      "text/markdown": [
       "<span style=\"color:#33cc33\">Correct</span>"
      ],
      "text/plain": [
       "Correct"
      ]
     },
     "metadata": {},
     "output_type": "display_data"
    }
   ],
   "source": [
    "# Your code here\n",
    "desc = reviews['description']\n",
    "\n",
    "# Check your answer\n",
    "q1.check()"
   ]
  },
  {
   "cell_type": "markdown",
   "id": "675523a2",
   "metadata": {
    "papermill": {
     "duration": 0.013482,
     "end_time": "2023-09-06T09:48:29.204585",
     "exception": false,
     "start_time": "2023-09-06T09:48:29.191103",
     "status": "completed"
    },
    "tags": []
   },
   "source": [
    "Follow-up question: what type of object is `desc`? If you're not sure, you can check by calling Python's `type` function: `type(desc)`."
   ]
  },
  {
   "cell_type": "code",
   "execution_count": 4,
   "id": "3137954e",
   "metadata": {
    "execution": {
     "iopub.execute_input": "2023-09-06T09:48:29.235829Z",
     "iopub.status.busy": "2023-09-06T09:48:29.235055Z",
     "iopub.status.idle": "2023-09-06T09:48:29.239882Z",
     "shell.execute_reply": "2023-09-06T09:48:29.238663Z"
    },
    "papermill": {
     "duration": 0.023932,
     "end_time": "2023-09-06T09:48:29.242885",
     "exception": false,
     "start_time": "2023-09-06T09:48:29.218953",
     "status": "completed"
    },
    "tags": []
   },
   "outputs": [],
   "source": [
    "#q1.hint()\n",
    "#q1.solution()"
   ]
  },
  {
   "cell_type": "markdown",
   "id": "219aac7e",
   "metadata": {
    "papermill": {
     "duration": 0.013675,
     "end_time": "2023-09-06T09:48:29.270424",
     "exception": false,
     "start_time": "2023-09-06T09:48:29.256749",
     "status": "completed"
    },
    "tags": []
   },
   "source": [
    "## 2.\n",
    "\n",
    "Select the first value from the description column of `reviews`, assigning it to variable `first_description`."
   ]
  },
  {
   "cell_type": "code",
   "execution_count": 5,
   "id": "f1b949aa",
   "metadata": {
    "execution": {
     "iopub.execute_input": "2023-09-06T09:48:29.299556Z",
     "iopub.status.busy": "2023-09-06T09:48:29.299105Z",
     "iopub.status.idle": "2023-09-06T09:48:29.311453Z",
     "shell.execute_reply": "2023-09-06T09:48:29.310300Z"
    },
    "papermill": {
     "duration": 0.030495,
     "end_time": "2023-09-06T09:48:29.314469",
     "exception": false,
     "start_time": "2023-09-06T09:48:29.283974",
     "status": "completed"
    },
    "tags": []
   },
   "outputs": [
    {
     "data": {
      "application/javascript": [
       "parent.postMessage({\"jupyterEvent\": \"custom.exercise_interaction\", \"data\": {\"outcomeType\": 4, \"interactionType\": 1, \"questionType\": 1, \"questionId\": \"2_FirstDesc\", \"learnToolsVersion\": \"0.3.4\", \"valueTowardsCompletion\": 0.0, \"failureMessage\": \"\", \"exceptionClass\": \"\", \"trace\": \"\"}}, \"*\")"
      ],
      "text/plain": [
       "<IPython.core.display.Javascript object>"
      ]
     },
     "metadata": {},
     "output_type": "display_data"
    },
    {
     "data": {
      "text/markdown": [
       "<span style=\"color:#ccaa33\">Check:</span> When you've updated the starter code, `check()` will tell you whether your code is correct. You need to update the code that creates variable `first_description`"
      ],
      "text/plain": [
       "Check: When you've updated the starter code, `check()` will tell you whether your code is correct. You need to update the code that creates variable `first_description`"
      ]
     },
     "metadata": {},
     "output_type": "display_data"
    },
    {
     "data": {
      "text/markdown": [],
      "text/plain": [
       "<learntools.core.constants.PlaceholderValue at 0x7b88f9c98af0>"
      ]
     },
     "execution_count": 5,
     "metadata": {},
     "output_type": "execute_result"
    }
   ],
   "source": [
    "first_description = ____\n",
    "\n",
    "# Check your answer\n",
    "q2.check()\n",
    "first_description"
   ]
  },
  {
   "cell_type": "code",
   "execution_count": 6,
   "id": "743df0b0",
   "metadata": {
    "execution": {
     "iopub.execute_input": "2023-09-06T09:48:29.347005Z",
     "iopub.status.busy": "2023-09-06T09:48:29.345877Z",
     "iopub.status.idle": "2023-09-06T09:48:29.351086Z",
     "shell.execute_reply": "2023-09-06T09:48:29.349838Z"
    },
    "papermill": {
     "duration": 0.024719,
     "end_time": "2023-09-06T09:48:29.353816",
     "exception": false,
     "start_time": "2023-09-06T09:48:29.329097",
     "status": "completed"
    },
    "tags": []
   },
   "outputs": [],
   "source": [
    "#q2.hint()\n",
    "#q2.solution()"
   ]
  },
  {
   "cell_type": "markdown",
   "id": "ae090806",
   "metadata": {
    "papermill": {
     "duration": 0.014626,
     "end_time": "2023-09-06T09:48:29.382898",
     "exception": false,
     "start_time": "2023-09-06T09:48:29.368272",
     "status": "completed"
    },
    "tags": []
   },
   "source": [
    "## 3. \n",
    "\n",
    "Select the first row of data (the first record) from `reviews`, assigning it to the variable `first_row`."
   ]
  },
  {
   "cell_type": "code",
   "execution_count": 7,
   "id": "ed2c4d00",
   "metadata": {
    "execution": {
     "iopub.execute_input": "2023-09-06T09:48:29.415374Z",
     "iopub.status.busy": "2023-09-06T09:48:29.414669Z",
     "iopub.status.idle": "2023-09-06T09:48:29.433625Z",
     "shell.execute_reply": "2023-09-06T09:48:29.432232Z"
    },
    "papermill": {
     "duration": 0.038806,
     "end_time": "2023-09-06T09:48:29.436394",
     "exception": false,
     "start_time": "2023-09-06T09:48:29.397588",
     "status": "completed"
    },
    "tags": []
   },
   "outputs": [
    {
     "data": {
      "application/javascript": [
       "parent.postMessage({\"jupyterEvent\": \"custom.exercise_interaction\", \"data\": {\"outcomeType\": 1, \"valueTowardsCompletion\": 0.1111111111111111, \"interactionType\": 1, \"questionType\": 1, \"questionId\": \"3_FirstRow\", \"learnToolsVersion\": \"0.3.4\", \"failureMessage\": \"\", \"exceptionClass\": \"\", \"trace\": \"\"}}, \"*\")"
      ],
      "text/plain": [
       "<IPython.core.display.Javascript object>"
      ]
     },
     "metadata": {},
     "output_type": "display_data"
    },
    {
     "data": {
      "text/markdown": [
       "<span style=\"color:#33cc33\">Correct</span>"
      ],
      "text/plain": [
       "Correct"
      ]
     },
     "metadata": {},
     "output_type": "display_data"
    },
    {
     "data": {
      "text/plain": [
       "country                                                    Italy\n",
       "description    Aromas include tropical fruit, broom, brimston...\n",
       "                                     ...                        \n",
       "variety                                              White Blend\n",
       "winery                                                   Nicosia\n",
       "Name: 0, Length: 13, dtype: object"
      ]
     },
     "execution_count": 7,
     "metadata": {},
     "output_type": "execute_result"
    }
   ],
   "source": [
    "first_row = reviews.iloc[0]\n",
    "\n",
    "# Check your answer\n",
    "q3.check()\n",
    "first_row"
   ]
  },
  {
   "cell_type": "code",
   "execution_count": 8,
   "id": "f2b3e59f",
   "metadata": {
    "execution": {
     "iopub.execute_input": "2023-09-06T09:48:29.469635Z",
     "iopub.status.busy": "2023-09-06T09:48:29.468669Z",
     "iopub.status.idle": "2023-09-06T09:48:29.473960Z",
     "shell.execute_reply": "2023-09-06T09:48:29.472916Z"
    },
    "papermill": {
     "duration": 0.024561,
     "end_time": "2023-09-06T09:48:29.476355",
     "exception": false,
     "start_time": "2023-09-06T09:48:29.451794",
     "status": "completed"
    },
    "tags": []
   },
   "outputs": [],
   "source": [
    "#q3.hint()\n",
    "#q3.solution()"
   ]
  },
  {
   "cell_type": "markdown",
   "id": "a1324996",
   "metadata": {
    "papermill": {
     "duration": 0.014175,
     "end_time": "2023-09-06T09:48:29.505546",
     "exception": false,
     "start_time": "2023-09-06T09:48:29.491371",
     "status": "completed"
    },
    "tags": []
   },
   "source": [
    "## 4.\n",
    "\n",
    "Select the first 10 values from the `description` column in `reviews`, assigning the result to variable `first_descriptions`.\n",
    "\n",
    "Hint: format your output as a pandas Series."
   ]
  },
  {
   "cell_type": "code",
   "execution_count": 9,
   "id": "aabe2303",
   "metadata": {
    "execution": {
     "iopub.execute_input": "2023-09-06T09:48:29.537782Z",
     "iopub.status.busy": "2023-09-06T09:48:29.537292Z",
     "iopub.status.idle": "2023-09-06T09:48:29.554943Z",
     "shell.execute_reply": "2023-09-06T09:48:29.553568Z"
    },
    "papermill": {
     "duration": 0.037696,
     "end_time": "2023-09-06T09:48:29.558005",
     "exception": false,
     "start_time": "2023-09-06T09:48:29.520309",
     "status": "completed"
    },
    "tags": []
   },
   "outputs": [
    {
     "data": {
      "application/javascript": [
       "parent.postMessage({\"jupyterEvent\": \"custom.exercise_interaction\", \"data\": {\"outcomeType\": 1, \"valueTowardsCompletion\": 0.1111111111111111, \"interactionType\": 1, \"questionType\": 1, \"questionId\": \"4_FirstDescs\", \"learnToolsVersion\": \"0.3.4\", \"failureMessage\": \"\", \"exceptionClass\": \"\", \"trace\": \"\"}}, \"*\")"
      ],
      "text/plain": [
       "<IPython.core.display.Javascript object>"
      ]
     },
     "metadata": {},
     "output_type": "display_data"
    },
    {
     "data": {
      "text/markdown": [
       "<span style=\"color:#33cc33\">Correct:</span> \n",
       "\n",
       "\n",
       "```python\n",
       "first_descriptions = reviews.description.iloc[:10]\n",
       "```\n",
       "Note that many other options will return a valid result, such as `desc.head(10)` and `reviews.loc[:9, \"description\"]`.    \n"
      ],
      "text/plain": [
       "Correct: \n",
       "\n",
       "\n",
       "```python\n",
       "first_descriptions = reviews.description.iloc[:10]\n",
       "```\n",
       "Note that many other options will return a valid result, such as `desc.head(10)` and `reviews.loc[:9, \"description\"]`.    "
      ]
     },
     "metadata": {},
     "output_type": "display_data"
    },
    {
     "data": {
      "text/plain": [
       "0    Aromas include tropical fruit, broom, brimston...\n",
       "1    This is ripe and fruity, a wine that is smooth...\n",
       "                           ...                        \n",
       "8    Savory dried thyme notes accent sunnier flavor...\n",
       "9    This has great depth of flavor with its fresh ...\n",
       "Name: description, Length: 10, dtype: object"
      ]
     },
     "execution_count": 9,
     "metadata": {},
     "output_type": "execute_result"
    }
   ],
   "source": [
    "#first_descriptions = reviews.description.iloc[:10]\n",
    "first_descriptions = reviews['description'][:10]\n",
    "\n",
    "# Check your answer\n",
    "q4.check()\n",
    "first_descriptions"
   ]
  },
  {
   "cell_type": "code",
   "execution_count": 10,
   "id": "4ab74e4a",
   "metadata": {
    "execution": {
     "iopub.execute_input": "2023-09-06T09:48:29.594215Z",
     "iopub.status.busy": "2023-09-06T09:48:29.593724Z",
     "iopub.status.idle": "2023-09-06T09:48:29.599070Z",
     "shell.execute_reply": "2023-09-06T09:48:29.597766Z"
    },
    "papermill": {
     "duration": 0.026994,
     "end_time": "2023-09-06T09:48:29.601679",
     "exception": false,
     "start_time": "2023-09-06T09:48:29.574685",
     "status": "completed"
    },
    "tags": []
   },
   "outputs": [],
   "source": [
    "#q4.hint()\n",
    "#q4.solution()"
   ]
  },
  {
   "cell_type": "markdown",
   "id": "aa014aec",
   "metadata": {
    "papermill": {
     "duration": 0.016451,
     "end_time": "2023-09-06T09:48:29.634907",
     "exception": false,
     "start_time": "2023-09-06T09:48:29.618456",
     "status": "completed"
    },
    "tags": []
   },
   "source": [
    "## 5.\n",
    "\n",
    "Select the records with index labels `1`, `2`, `3`, `5`, and `8`, assigning the result to the variable `sample_reviews`.\n",
    "\n",
    "In other words, generate the following DataFrame:\n",
    "\n",
    "![](https://storage.googleapis.com/kaggle-media/learn/images/sHZvI1O.png)"
   ]
  },
  {
   "cell_type": "code",
   "execution_count": 11,
   "id": "e6c1b6be",
   "metadata": {
    "execution": {
     "iopub.execute_input": "2023-09-06T09:48:29.669968Z",
     "iopub.status.busy": "2023-09-06T09:48:29.668680Z",
     "iopub.status.idle": "2023-09-06T09:48:29.697999Z",
     "shell.execute_reply": "2023-09-06T09:48:29.696691Z"
    },
    "papermill": {
     "duration": 0.049567,
     "end_time": "2023-09-06T09:48:29.700951",
     "exception": false,
     "start_time": "2023-09-06T09:48:29.651384",
     "status": "completed"
    },
    "tags": []
   },
   "outputs": [
    {
     "data": {
      "application/javascript": [
       "parent.postMessage({\"jupyterEvent\": \"custom.exercise_interaction\", \"data\": {\"outcomeType\": 1, \"valueTowardsCompletion\": 0.1111111111111111, \"interactionType\": 1, \"questionType\": 1, \"questionId\": \"5_SampleReviews\", \"learnToolsVersion\": \"0.3.4\", \"failureMessage\": \"\", \"exceptionClass\": \"\", \"trace\": \"\"}}, \"*\")"
      ],
      "text/plain": [
       "<IPython.core.display.Javascript object>"
      ]
     },
     "metadata": {},
     "output_type": "display_data"
    },
    {
     "data": {
      "text/markdown": [
       "<span style=\"color:#33cc33\">Correct</span>"
      ],
      "text/plain": [
       "Correct"
      ]
     },
     "metadata": {},
     "output_type": "display_data"
    },
    {
     "data": {
      "text/html": [
       "<div>\n",
       "<style scoped>\n",
       "    .dataframe tbody tr th:only-of-type {\n",
       "        vertical-align: middle;\n",
       "    }\n",
       "\n",
       "    .dataframe tbody tr th {\n",
       "        vertical-align: top;\n",
       "    }\n",
       "\n",
       "    .dataframe thead th {\n",
       "        text-align: right;\n",
       "    }\n",
       "</style>\n",
       "<table border=\"1\" class=\"dataframe\">\n",
       "  <thead>\n",
       "    <tr style=\"text-align: right;\">\n",
       "      <th></th>\n",
       "      <th>country</th>\n",
       "      <th>description</th>\n",
       "      <th>designation</th>\n",
       "      <th>points</th>\n",
       "      <th>price</th>\n",
       "      <th>province</th>\n",
       "      <th>region_1</th>\n",
       "      <th>region_2</th>\n",
       "      <th>taster_name</th>\n",
       "      <th>taster_twitter_handle</th>\n",
       "      <th>title</th>\n",
       "      <th>variety</th>\n",
       "      <th>winery</th>\n",
       "    </tr>\n",
       "  </thead>\n",
       "  <tbody>\n",
       "    <tr>\n",
       "      <th>1</th>\n",
       "      <td>Portugal</td>\n",
       "      <td>This is ripe and fruity, a wine that is smooth...</td>\n",
       "      <td>Avidagos</td>\n",
       "      <td>87</td>\n",
       "      <td>15.0</td>\n",
       "      <td>Douro</td>\n",
       "      <td>NaN</td>\n",
       "      <td>NaN</td>\n",
       "      <td>Roger Voss</td>\n",
       "      <td>@vossroger</td>\n",
       "      <td>Quinta dos Avidagos 2011 Avidagos Red (Douro)</td>\n",
       "      <td>Portuguese Red</td>\n",
       "      <td>Quinta dos Avidagos</td>\n",
       "    </tr>\n",
       "    <tr>\n",
       "      <th>2</th>\n",
       "      <td>US</td>\n",
       "      <td>Tart and snappy, the flavors of lime flesh and...</td>\n",
       "      <td>NaN</td>\n",
       "      <td>87</td>\n",
       "      <td>14.0</td>\n",
       "      <td>Oregon</td>\n",
       "      <td>Willamette Valley</td>\n",
       "      <td>Willamette Valley</td>\n",
       "      <td>Paul Gregutt</td>\n",
       "      <td>@paulgwine</td>\n",
       "      <td>Rainstorm 2013 Pinot Gris (Willamette Valley)</td>\n",
       "      <td>Pinot Gris</td>\n",
       "      <td>Rainstorm</td>\n",
       "    </tr>\n",
       "    <tr>\n",
       "      <th>3</th>\n",
       "      <td>US</td>\n",
       "      <td>Pineapple rind, lemon pith and orange blossom ...</td>\n",
       "      <td>Reserve Late Harvest</td>\n",
       "      <td>87</td>\n",
       "      <td>13.0</td>\n",
       "      <td>Michigan</td>\n",
       "      <td>Lake Michigan Shore</td>\n",
       "      <td>NaN</td>\n",
       "      <td>Alexander Peartree</td>\n",
       "      <td>NaN</td>\n",
       "      <td>St. Julian 2013 Reserve Late Harvest Riesling ...</td>\n",
       "      <td>Riesling</td>\n",
       "      <td>St. Julian</td>\n",
       "    </tr>\n",
       "    <tr>\n",
       "      <th>5</th>\n",
       "      <td>Spain</td>\n",
       "      <td>Blackberry and raspberry aromas show a typical...</td>\n",
       "      <td>Ars In Vitro</td>\n",
       "      <td>87</td>\n",
       "      <td>15.0</td>\n",
       "      <td>Northern Spain</td>\n",
       "      <td>Navarra</td>\n",
       "      <td>NaN</td>\n",
       "      <td>Michael Schachner</td>\n",
       "      <td>@wineschach</td>\n",
       "      <td>Tandem 2011 Ars In Vitro Tempranillo-Merlot (N...</td>\n",
       "      <td>Tempranillo-Merlot</td>\n",
       "      <td>Tandem</td>\n",
       "    </tr>\n",
       "    <tr>\n",
       "      <th>8</th>\n",
       "      <td>Germany</td>\n",
       "      <td>Savory dried thyme notes accent sunnier flavor...</td>\n",
       "      <td>Shine</td>\n",
       "      <td>87</td>\n",
       "      <td>12.0</td>\n",
       "      <td>Rheinhessen</td>\n",
       "      <td>NaN</td>\n",
       "      <td>NaN</td>\n",
       "      <td>Anna Lee C. Iijima</td>\n",
       "      <td>NaN</td>\n",
       "      <td>Heinz Eifel 2013 Shine Gewürztraminer (Rheinhe...</td>\n",
       "      <td>Gewürztraminer</td>\n",
       "      <td>Heinz Eifel</td>\n",
       "    </tr>\n",
       "  </tbody>\n",
       "</table>\n",
       "</div>"
      ],
      "text/plain": [
       "    country                                        description  \\\n",
       "1  Portugal  This is ripe and fruity, a wine that is smooth...   \n",
       "2        US  Tart and snappy, the flavors of lime flesh and...   \n",
       "3        US  Pineapple rind, lemon pith and orange blossom ...   \n",
       "5     Spain  Blackberry and raspberry aromas show a typical...   \n",
       "8   Germany  Savory dried thyme notes accent sunnier flavor...   \n",
       "\n",
       "            designation  points  price        province             region_1  \\\n",
       "1              Avidagos      87   15.0           Douro                  NaN   \n",
       "2                   NaN      87   14.0          Oregon    Willamette Valley   \n",
       "3  Reserve Late Harvest      87   13.0        Michigan  Lake Michigan Shore   \n",
       "5          Ars In Vitro      87   15.0  Northern Spain              Navarra   \n",
       "8                 Shine      87   12.0     Rheinhessen                  NaN   \n",
       "\n",
       "            region_2         taster_name taster_twitter_handle  \\\n",
       "1                NaN          Roger Voss            @vossroger   \n",
       "2  Willamette Valley        Paul Gregutt           @paulgwine    \n",
       "3                NaN  Alexander Peartree                   NaN   \n",
       "5                NaN   Michael Schachner           @wineschach   \n",
       "8                NaN  Anna Lee C. Iijima                   NaN   \n",
       "\n",
       "                                               title             variety  \\\n",
       "1      Quinta dos Avidagos 2011 Avidagos Red (Douro)      Portuguese Red   \n",
       "2      Rainstorm 2013 Pinot Gris (Willamette Valley)          Pinot Gris   \n",
       "3  St. Julian 2013 Reserve Late Harvest Riesling ...            Riesling   \n",
       "5  Tandem 2011 Ars In Vitro Tempranillo-Merlot (N...  Tempranillo-Merlot   \n",
       "8  Heinz Eifel 2013 Shine Gewürztraminer (Rheinhe...      Gewürztraminer   \n",
       "\n",
       "                winery  \n",
       "1  Quinta dos Avidagos  \n",
       "2            Rainstorm  \n",
       "3           St. Julian  \n",
       "5               Tandem  \n",
       "8          Heinz Eifel  "
      ]
     },
     "execution_count": 11,
     "metadata": {},
     "output_type": "execute_result"
    }
   ],
   "source": [
    "sample_reviews = reviews.iloc[[1, 2, 3 , 5, 8]]\n",
    "\n",
    "# Check your answer\n",
    "q5.check()\n",
    "sample_reviews"
   ]
  },
  {
   "cell_type": "code",
   "execution_count": 12,
   "id": "f1dc79fb",
   "metadata": {
    "execution": {
     "iopub.execute_input": "2023-09-06T09:48:29.736840Z",
     "iopub.status.busy": "2023-09-06T09:48:29.736321Z",
     "iopub.status.idle": "2023-09-06T09:48:29.741478Z",
     "shell.execute_reply": "2023-09-06T09:48:29.740023Z"
    },
    "papermill": {
     "duration": 0.026406,
     "end_time": "2023-09-06T09:48:29.744146",
     "exception": false,
     "start_time": "2023-09-06T09:48:29.717740",
     "status": "completed"
    },
    "tags": []
   },
   "outputs": [],
   "source": [
    "#q5.hint()\n",
    "#q5.solution()"
   ]
  },
  {
   "cell_type": "markdown",
   "id": "36a72a49",
   "metadata": {
    "papermill": {
     "duration": 0.015918,
     "end_time": "2023-09-06T09:48:29.776492",
     "exception": false,
     "start_time": "2023-09-06T09:48:29.760574",
     "status": "completed"
    },
    "tags": []
   },
   "source": [
    "## 6.\n",
    "\n",
    "Create a variable `df` containing the `country`, `province`, `region_1`, and `region_2` columns of the records with the index labels `0`, `1`, `10`, and `100`. In other words, generate the following DataFrame:\n",
    "\n",
    "![](https://storage.googleapis.com/kaggle-media/learn/images/FUCGiKP.png)"
   ]
  },
  {
   "cell_type": "code",
   "execution_count": 13,
   "id": "3a466a2b",
   "metadata": {
    "execution": {
     "iopub.execute_input": "2023-09-06T09:48:29.811904Z",
     "iopub.status.busy": "2023-09-06T09:48:29.811461Z",
     "iopub.status.idle": "2023-09-06T09:48:29.844016Z",
     "shell.execute_reply": "2023-09-06T09:48:29.842779Z"
    },
    "papermill": {
     "duration": 0.053434,
     "end_time": "2023-09-06T09:48:29.846750",
     "exception": false,
     "start_time": "2023-09-06T09:48:29.793316",
     "status": "completed"
    },
    "tags": []
   },
   "outputs": [
    {
     "data": {
      "application/javascript": [
       "parent.postMessage({\"jupyterEvent\": \"custom.exercise_interaction\", \"data\": {\"outcomeType\": 1, \"valueTowardsCompletion\": 0.1111111111111111, \"interactionType\": 1, \"questionType\": 1, \"questionId\": \"6_RowColSelect\", \"learnToolsVersion\": \"0.3.4\", \"failureMessage\": \"\", \"exceptionClass\": \"\", \"trace\": \"\"}}, \"*\")"
      ],
      "text/plain": [
       "<IPython.core.display.Javascript object>"
      ]
     },
     "metadata": {},
     "output_type": "display_data"
    },
    {
     "data": {
      "text/markdown": [
       "<span style=\"color:#33cc33\">Correct</span>"
      ],
      "text/plain": [
       "Correct"
      ]
     },
     "metadata": {},
     "output_type": "display_data"
    },
    {
     "data": {
      "text/html": [
       "<div>\n",
       "<style scoped>\n",
       "    .dataframe tbody tr th:only-of-type {\n",
       "        vertical-align: middle;\n",
       "    }\n",
       "\n",
       "    .dataframe tbody tr th {\n",
       "        vertical-align: top;\n",
       "    }\n",
       "\n",
       "    .dataframe thead th {\n",
       "        text-align: right;\n",
       "    }\n",
       "</style>\n",
       "<table border=\"1\" class=\"dataframe\">\n",
       "  <thead>\n",
       "    <tr style=\"text-align: right;\">\n",
       "      <th></th>\n",
       "      <th>country</th>\n",
       "      <th>province</th>\n",
       "      <th>region_1</th>\n",
       "      <th>region_2</th>\n",
       "    </tr>\n",
       "  </thead>\n",
       "  <tbody>\n",
       "    <tr>\n",
       "      <th>0</th>\n",
       "      <td>Italy</td>\n",
       "      <td>Sicily &amp; Sardinia</td>\n",
       "      <td>Etna</td>\n",
       "      <td>NaN</td>\n",
       "    </tr>\n",
       "    <tr>\n",
       "      <th>1</th>\n",
       "      <td>Portugal</td>\n",
       "      <td>Douro</td>\n",
       "      <td>NaN</td>\n",
       "      <td>NaN</td>\n",
       "    </tr>\n",
       "    <tr>\n",
       "      <th>10</th>\n",
       "      <td>US</td>\n",
       "      <td>California</td>\n",
       "      <td>Napa Valley</td>\n",
       "      <td>Napa</td>\n",
       "    </tr>\n",
       "    <tr>\n",
       "      <th>100</th>\n",
       "      <td>US</td>\n",
       "      <td>New York</td>\n",
       "      <td>Finger Lakes</td>\n",
       "      <td>Finger Lakes</td>\n",
       "    </tr>\n",
       "  </tbody>\n",
       "</table>\n",
       "</div>"
      ],
      "text/plain": [
       "      country           province      region_1      region_2\n",
       "0       Italy  Sicily & Sardinia          Etna           NaN\n",
       "1    Portugal              Douro           NaN           NaN\n",
       "10         US         California   Napa Valley          Napa\n",
       "100        US           New York  Finger Lakes  Finger Lakes"
      ]
     },
     "execution_count": 13,
     "metadata": {},
     "output_type": "execute_result"
    }
   ],
   "source": [
    "cols = ['country', 'province', 'region_1', 'region_2']\n",
    "indices = [0, 1, 10, 100]\n",
    "df = reviews.loc[indices, cols]\n",
    "\n",
    "# Check your answer\n",
    "q6.check()\n",
    "df"
   ]
  },
  {
   "cell_type": "code",
   "execution_count": 14,
   "id": "78ccb054",
   "metadata": {
    "execution": {
     "iopub.execute_input": "2023-09-06T09:48:29.993858Z",
     "iopub.status.busy": "2023-09-06T09:48:29.993099Z",
     "iopub.status.idle": "2023-09-06T09:48:29.998226Z",
     "shell.execute_reply": "2023-09-06T09:48:29.997063Z"
    },
    "papermill": {
     "duration": 0.028744,
     "end_time": "2023-09-06T09:48:30.000866",
     "exception": false,
     "start_time": "2023-09-06T09:48:29.972122",
     "status": "completed"
    },
    "tags": []
   },
   "outputs": [],
   "source": [
    "#q6.hint()\n",
    "#q6.solution()"
   ]
  },
  {
   "cell_type": "markdown",
   "id": "cc138155",
   "metadata": {
    "papermill": {
     "duration": 0.018773,
     "end_time": "2023-09-06T09:48:30.037181",
     "exception": false,
     "start_time": "2023-09-06T09:48:30.018408",
     "status": "completed"
    },
    "tags": []
   },
   "source": [
    "## 7.\n",
    "\n",
    "Create a variable `df` containing the `country` and `variety` columns of the first 100 records. \n",
    "\n",
    "Hint: you may use `loc` or `iloc`. When working on the answer this question and the several of the ones that follow, keep the following \"gotcha\" described in the tutorial:\n",
    "\n",
    "> `iloc` uses the Python stdlib indexing scheme, where the first element of the range is included and the last one excluded. \n",
    "`loc`, meanwhile, indexes inclusively. \n",
    "\n",
    "> This is particularly confusing when the DataFrame index is a simple numerical list, e.g. `0,...,1000`. In this case `df.iloc[0:1000]` will return 1000 entries, while `df.loc[0:1000]` return 1001 of them! To get 1000 elements using `loc`, you will need to go one lower and ask for `df.iloc[0:999]`. "
   ]
  },
  {
   "cell_type": "code",
   "execution_count": 15,
   "id": "7ab1c19c",
   "metadata": {
    "execution": {
     "iopub.execute_input": "2023-09-06T09:48:30.088338Z",
     "iopub.status.busy": "2023-09-06T09:48:30.087595Z",
     "iopub.status.idle": "2023-09-06T09:48:30.111942Z",
     "shell.execute_reply": "2023-09-06T09:48:30.110906Z"
    },
    "papermill": {
     "duration": 0.05601,
     "end_time": "2023-09-06T09:48:30.114433",
     "exception": false,
     "start_time": "2023-09-06T09:48:30.058423",
     "status": "completed"
    },
    "tags": []
   },
   "outputs": [
    {
     "data": {
      "application/javascript": [
       "parent.postMessage({\"jupyterEvent\": \"custom.exercise_interaction\", \"data\": {\"outcomeType\": 1, \"valueTowardsCompletion\": 0.1111111111111111, \"interactionType\": 1, \"questionType\": 1, \"questionId\": \"7_RowColSelect2\", \"learnToolsVersion\": \"0.3.4\", \"failureMessage\": \"\", \"exceptionClass\": \"\", \"trace\": \"\"}}, \"*\")"
      ],
      "text/plain": [
       "<IPython.core.display.Javascript object>"
      ]
     },
     "metadata": {},
     "output_type": "display_data"
    },
    {
     "data": {
      "text/markdown": [
       "<span style=\"color:#33cc33\">Correct:</span> \n",
       "\n",
       "\n",
       "```python\n",
       "cols = ['country', 'variety']\n",
       "df = reviews.loc[:99, cols]\n",
       "```\n",
       "or \n",
       "```python\n",
       "cols_idx = [0, 11]\n",
       "df = reviews.iloc[:100, cols_idx]\n",
       "```\n"
      ],
      "text/plain": [
       "Correct: \n",
       "\n",
       "\n",
       "```python\n",
       "cols = ['country', 'variety']\n",
       "df = reviews.loc[:99, cols]\n",
       "```\n",
       "or \n",
       "```python\n",
       "cols_idx = [0, 11]\n",
       "df = reviews.iloc[:100, cols_idx]\n",
       "```"
      ]
     },
     "metadata": {},
     "output_type": "display_data"
    },
    {
     "data": {
      "text/html": [
       "<div>\n",
       "<style scoped>\n",
       "    .dataframe tbody tr th:only-of-type {\n",
       "        vertical-align: middle;\n",
       "    }\n",
       "\n",
       "    .dataframe tbody tr th {\n",
       "        vertical-align: top;\n",
       "    }\n",
       "\n",
       "    .dataframe thead th {\n",
       "        text-align: right;\n",
       "    }\n",
       "</style>\n",
       "<table border=\"1\" class=\"dataframe\">\n",
       "  <thead>\n",
       "    <tr style=\"text-align: right;\">\n",
       "      <th></th>\n",
       "      <th>country</th>\n",
       "      <th>variety</th>\n",
       "    </tr>\n",
       "  </thead>\n",
       "  <tbody>\n",
       "    <tr>\n",
       "      <th>0</th>\n",
       "      <td>Italy</td>\n",
       "      <td>White Blend</td>\n",
       "    </tr>\n",
       "    <tr>\n",
       "      <th>1</th>\n",
       "      <td>Portugal</td>\n",
       "      <td>Portuguese Red</td>\n",
       "    </tr>\n",
       "    <tr>\n",
       "      <th>...</th>\n",
       "      <td>...</td>\n",
       "      <td>...</td>\n",
       "    </tr>\n",
       "    <tr>\n",
       "      <th>98</th>\n",
       "      <td>Italy</td>\n",
       "      <td>Sangiovese</td>\n",
       "    </tr>\n",
       "    <tr>\n",
       "      <th>99</th>\n",
       "      <td>US</td>\n",
       "      <td>Bordeaux-style Red Blend</td>\n",
       "    </tr>\n",
       "  </tbody>\n",
       "</table>\n",
       "<p>100 rows × 2 columns</p>\n",
       "</div>"
      ],
      "text/plain": [
       "     country                   variety\n",
       "0      Italy               White Blend\n",
       "1   Portugal            Portuguese Red\n",
       "..       ...                       ...\n",
       "98     Italy                Sangiovese\n",
       "99        US  Bordeaux-style Red Blend\n",
       "\n",
       "[100 rows x 2 columns]"
      ]
     },
     "execution_count": 15,
     "metadata": {},
     "output_type": "execute_result"
    }
   ],
   "source": [
    "cols = ['country', 'variety']\n",
    "df = reviews.loc[:99, cols]\n",
    "\n",
    "# Check your answer\n",
    "q7.check()\n",
    "df"
   ]
  },
  {
   "cell_type": "code",
   "execution_count": 16,
   "id": "04837106",
   "metadata": {
    "execution": {
     "iopub.execute_input": "2023-09-06T09:48:30.159648Z",
     "iopub.status.busy": "2023-09-06T09:48:30.158747Z",
     "iopub.status.idle": "2023-09-06T09:48:30.163604Z",
     "shell.execute_reply": "2023-09-06T09:48:30.162314Z"
    },
    "papermill": {
     "duration": 0.028068,
     "end_time": "2023-09-06T09:48:30.166552",
     "exception": false,
     "start_time": "2023-09-06T09:48:30.138484",
     "status": "completed"
    },
    "tags": []
   },
   "outputs": [],
   "source": [
    "#q7.hint()\n",
    "#q7.solution()"
   ]
  },
  {
   "cell_type": "markdown",
   "id": "9f366b18",
   "metadata": {
    "papermill": {
     "duration": 0.017443,
     "end_time": "2023-09-06T09:48:30.202110",
     "exception": false,
     "start_time": "2023-09-06T09:48:30.184667",
     "status": "completed"
    },
    "tags": []
   },
   "source": [
    "## 8.\n",
    "\n",
    "Create a DataFrame `italian_wines` containing reviews of wines made in `Italy`. Hint: `reviews.country` equals what?"
   ]
  },
  {
   "cell_type": "code",
   "execution_count": 17,
   "id": "fef9713a",
   "metadata": {
    "execution": {
     "iopub.execute_input": "2023-09-06T09:48:30.241227Z",
     "iopub.status.busy": "2023-09-06T09:48:30.240684Z",
     "iopub.status.idle": "2023-09-06T09:48:30.285113Z",
     "shell.execute_reply": "2023-09-06T09:48:30.283896Z"
    },
    "papermill": {
     "duration": 0.067927,
     "end_time": "2023-09-06T09:48:30.287933",
     "exception": false,
     "start_time": "2023-09-06T09:48:30.220006",
     "status": "completed"
    },
    "tags": []
   },
   "outputs": [
    {
     "data": {
      "application/javascript": [
       "parent.postMessage({\"jupyterEvent\": \"custom.exercise_interaction\", \"data\": {\"outcomeType\": 1, \"valueTowardsCompletion\": 0.1111111111111111, \"interactionType\": 1, \"questionType\": 1, \"questionId\": \"8_ItalianWines\", \"learnToolsVersion\": \"0.3.4\", \"failureMessage\": \"\", \"exceptionClass\": \"\", \"trace\": \"\"}}, \"*\")"
      ],
      "text/plain": [
       "<IPython.core.display.Javascript object>"
      ]
     },
     "metadata": {},
     "output_type": "display_data"
    },
    {
     "data": {
      "text/markdown": [
       "<span style=\"color:#33cc33\">Correct</span>"
      ],
      "text/plain": [
       "Correct"
      ]
     },
     "metadata": {},
     "output_type": "display_data"
    }
   ],
   "source": [
    "italian_wines = reviews[reviews.country == 'Italy']\n",
    "\n",
    "# Check your answer\n",
    "q8.check()"
   ]
  },
  {
   "cell_type": "code",
   "execution_count": 18,
   "id": "8548e4b3",
   "metadata": {
    "execution": {
     "iopub.execute_input": "2023-09-06T09:48:30.345248Z",
     "iopub.status.busy": "2023-09-06T09:48:30.344544Z",
     "iopub.status.idle": "2023-09-06T09:48:30.350640Z",
     "shell.execute_reply": "2023-09-06T09:48:30.349639Z"
    },
    "papermill": {
     "duration": 0.039964,
     "end_time": "2023-09-06T09:48:30.353723",
     "exception": false,
     "start_time": "2023-09-06T09:48:30.313759",
     "status": "completed"
    },
    "tags": []
   },
   "outputs": [],
   "source": [
    "#q8.hint()\n",
    "#q8.solution()"
   ]
  },
  {
   "cell_type": "markdown",
   "id": "edce1451",
   "metadata": {
    "papermill": {
     "duration": 0.017952,
     "end_time": "2023-09-06T09:48:30.395746",
     "exception": false,
     "start_time": "2023-09-06T09:48:30.377794",
     "status": "completed"
    },
    "tags": []
   },
   "source": [
    "## 9.\n",
    "\n",
    "Create a DataFrame `top_oceania_wines` containing all reviews with at least 95 points (out of 100) for wines from Australia or New Zealand."
   ]
  },
  {
   "cell_type": "code",
   "execution_count": 19,
   "id": "0070a34b",
   "metadata": {
    "execution": {
     "iopub.execute_input": "2023-09-06T09:48:30.439214Z",
     "iopub.status.busy": "2023-09-06T09:48:30.438754Z",
     "iopub.status.idle": "2023-09-06T09:48:30.477808Z",
     "shell.execute_reply": "2023-09-06T09:48:30.476767Z"
    },
    "papermill": {
     "duration": 0.063445,
     "end_time": "2023-09-06T09:48:30.480091",
     "exception": false,
     "start_time": "2023-09-06T09:48:30.416646",
     "status": "completed"
    },
    "tags": []
   },
   "outputs": [
    {
     "data": {
      "application/javascript": [
       "parent.postMessage({\"jupyterEvent\": \"custom.exercise_interaction\", \"data\": {\"outcomeType\": 1, \"valueTowardsCompletion\": 0.1111111111111111, \"interactionType\": 1, \"questionType\": 1, \"questionId\": \"9_TopOceanicWines\", \"learnToolsVersion\": \"0.3.4\", \"failureMessage\": \"\", \"exceptionClass\": \"\", \"trace\": \"\"}}, \"*\")"
      ],
      "text/plain": [
       "<IPython.core.display.Javascript object>"
      ]
     },
     "metadata": {},
     "output_type": "display_data"
    },
    {
     "data": {
      "text/markdown": [
       "<span style=\"color:#33cc33\">Correct</span>"
      ],
      "text/plain": [
       "Correct"
      ]
     },
     "metadata": {},
     "output_type": "display_data"
    },
    {
     "data": {
      "text/html": [
       "<div>\n",
       "<style scoped>\n",
       "    .dataframe tbody tr th:only-of-type {\n",
       "        vertical-align: middle;\n",
       "    }\n",
       "\n",
       "    .dataframe tbody tr th {\n",
       "        vertical-align: top;\n",
       "    }\n",
       "\n",
       "    .dataframe thead th {\n",
       "        text-align: right;\n",
       "    }\n",
       "</style>\n",
       "<table border=\"1\" class=\"dataframe\">\n",
       "  <thead>\n",
       "    <tr style=\"text-align: right;\">\n",
       "      <th></th>\n",
       "      <th>country</th>\n",
       "      <th>description</th>\n",
       "      <th>designation</th>\n",
       "      <th>points</th>\n",
       "      <th>price</th>\n",
       "      <th>province</th>\n",
       "      <th>region_1</th>\n",
       "      <th>region_2</th>\n",
       "      <th>taster_name</th>\n",
       "      <th>taster_twitter_handle</th>\n",
       "      <th>title</th>\n",
       "      <th>variety</th>\n",
       "      <th>winery</th>\n",
       "    </tr>\n",
       "  </thead>\n",
       "  <tbody>\n",
       "    <tr>\n",
       "      <th>345</th>\n",
       "      <td>Australia</td>\n",
       "      <td>This wine contains some material over 100 year...</td>\n",
       "      <td>Rare</td>\n",
       "      <td>100</td>\n",
       "      <td>350.0</td>\n",
       "      <td>Victoria</td>\n",
       "      <td>Rutherglen</td>\n",
       "      <td>NaN</td>\n",
       "      <td>Joe Czerwinski</td>\n",
       "      <td>@JoeCz</td>\n",
       "      <td>Chambers Rosewood Vineyards NV Rare Muscat (Ru...</td>\n",
       "      <td>Muscat</td>\n",
       "      <td>Chambers Rosewood Vineyards</td>\n",
       "    </tr>\n",
       "    <tr>\n",
       "      <th>346</th>\n",
       "      <td>Australia</td>\n",
       "      <td>This deep brown wine smells like a damp, mossy...</td>\n",
       "      <td>Rare</td>\n",
       "      <td>98</td>\n",
       "      <td>350.0</td>\n",
       "      <td>Victoria</td>\n",
       "      <td>Rutherglen</td>\n",
       "      <td>NaN</td>\n",
       "      <td>Joe Czerwinski</td>\n",
       "      <td>@JoeCz</td>\n",
       "      <td>Chambers Rosewood Vineyards NV Rare Muscadelle...</td>\n",
       "      <td>Muscadelle</td>\n",
       "      <td>Chambers Rosewood Vineyards</td>\n",
       "    </tr>\n",
       "    <tr>\n",
       "      <th>...</th>\n",
       "      <td>...</td>\n",
       "      <td>...</td>\n",
       "      <td>...</td>\n",
       "      <td>...</td>\n",
       "      <td>...</td>\n",
       "      <td>...</td>\n",
       "      <td>...</td>\n",
       "      <td>...</td>\n",
       "      <td>...</td>\n",
       "      <td>...</td>\n",
       "      <td>...</td>\n",
       "      <td>...</td>\n",
       "      <td>...</td>\n",
       "    </tr>\n",
       "    <tr>\n",
       "      <th>122507</th>\n",
       "      <td>New Zealand</td>\n",
       "      <td>This blend of Cabernet Sauvignon (62.5%), Merl...</td>\n",
       "      <td>SQM Gimblett Gravels Cabernets/Merlot</td>\n",
       "      <td>95</td>\n",
       "      <td>79.0</td>\n",
       "      <td>Hawke's Bay</td>\n",
       "      <td>NaN</td>\n",
       "      <td>NaN</td>\n",
       "      <td>Joe Czerwinski</td>\n",
       "      <td>@JoeCz</td>\n",
       "      <td>Squawking Magpie 2014 SQM Gimblett Gravels Cab...</td>\n",
       "      <td>Bordeaux-style Red Blend</td>\n",
       "      <td>Squawking Magpie</td>\n",
       "    </tr>\n",
       "    <tr>\n",
       "      <th>122939</th>\n",
       "      <td>Australia</td>\n",
       "      <td>Full-bodied and plush yet vibrant and imbued w...</td>\n",
       "      <td>The Factor</td>\n",
       "      <td>98</td>\n",
       "      <td>125.0</td>\n",
       "      <td>South Australia</td>\n",
       "      <td>Barossa Valley</td>\n",
       "      <td>NaN</td>\n",
       "      <td>Joe Czerwinski</td>\n",
       "      <td>@JoeCz</td>\n",
       "      <td>Torbreck 2013 The Factor Shiraz (Barossa Valley)</td>\n",
       "      <td>Shiraz</td>\n",
       "      <td>Torbreck</td>\n",
       "    </tr>\n",
       "  </tbody>\n",
       "</table>\n",
       "<p>49 rows × 13 columns</p>\n",
       "</div>"
      ],
      "text/plain": [
       "            country                                        description  \\\n",
       "345       Australia  This wine contains some material over 100 year...   \n",
       "346       Australia  This deep brown wine smells like a damp, mossy...   \n",
       "...             ...                                                ...   \n",
       "122507  New Zealand  This blend of Cabernet Sauvignon (62.5%), Merl...   \n",
       "122939    Australia  Full-bodied and plush yet vibrant and imbued w...   \n",
       "\n",
       "                                  designation  points  price         province  \\\n",
       "345                                      Rare     100  350.0         Victoria   \n",
       "346                                      Rare      98  350.0         Victoria   \n",
       "...                                       ...     ...    ...              ...   \n",
       "122507  SQM Gimblett Gravels Cabernets/Merlot      95   79.0      Hawke's Bay   \n",
       "122939                             The Factor      98  125.0  South Australia   \n",
       "\n",
       "              region_1 region_2     taster_name taster_twitter_handle  \\\n",
       "345         Rutherglen      NaN  Joe Czerwinski                @JoeCz   \n",
       "346         Rutherglen      NaN  Joe Czerwinski                @JoeCz   \n",
       "...                ...      ...             ...                   ...   \n",
       "122507             NaN      NaN  Joe Czerwinski                @JoeCz   \n",
       "122939  Barossa Valley      NaN  Joe Czerwinski                @JoeCz   \n",
       "\n",
       "                                                    title  \\\n",
       "345     Chambers Rosewood Vineyards NV Rare Muscat (Ru...   \n",
       "346     Chambers Rosewood Vineyards NV Rare Muscadelle...   \n",
       "...                                                   ...   \n",
       "122507  Squawking Magpie 2014 SQM Gimblett Gravels Cab...   \n",
       "122939   Torbreck 2013 The Factor Shiraz (Barossa Valley)   \n",
       "\n",
       "                         variety                       winery  \n",
       "345                       Muscat  Chambers Rosewood Vineyards  \n",
       "346                   Muscadelle  Chambers Rosewood Vineyards  \n",
       "...                          ...                          ...  \n",
       "122507  Bordeaux-style Red Blend             Squawking Magpie  \n",
       "122939                    Shiraz                     Torbreck  \n",
       "\n",
       "[49 rows x 13 columns]"
      ]
     },
     "execution_count": 19,
     "metadata": {},
     "output_type": "execute_result"
    }
   ],
   "source": [
    "top_oceania_wines = reviews.loc[\n",
    "    (reviews.country.isin(['Australia', 'New Zealand']))\n",
    "    & (reviews.points >= 95)]\n",
    "\n",
    "# Check your answer\n",
    "q9.check()\n",
    "top_oceania_wines"
   ]
  },
  {
   "cell_type": "code",
   "execution_count": 20,
   "id": "24453cbc",
   "metadata": {
    "execution": {
     "iopub.execute_input": "2023-09-06T09:48:30.519804Z",
     "iopub.status.busy": "2023-09-06T09:48:30.519159Z",
     "iopub.status.idle": "2023-09-06T09:48:30.524443Z",
     "shell.execute_reply": "2023-09-06T09:48:30.522980Z"
    },
    "papermill": {
     "duration": 0.028198,
     "end_time": "2023-09-06T09:48:30.526950",
     "exception": false,
     "start_time": "2023-09-06T09:48:30.498752",
     "status": "completed"
    },
    "tags": []
   },
   "outputs": [],
   "source": [
    "#q9.hint()\n",
    "#q9.solution()"
   ]
  },
  {
   "cell_type": "markdown",
   "id": "8f7b83ef",
   "metadata": {
    "papermill": {
     "duration": 0.018891,
     "end_time": "2023-09-06T09:48:30.565223",
     "exception": false,
     "start_time": "2023-09-06T09:48:30.546332",
     "status": "completed"
    },
    "tags": []
   },
   "source": [
    "# Keep going\n",
    "\n",
    "Move on to learn about **[summary functions and maps](https://www.kaggle.com/residentmario/summary-functions-and-maps)**."
   ]
  },
  {
   "cell_type": "markdown",
   "id": "99398a09",
   "metadata": {
    "papermill": {
     "duration": 0.019735,
     "end_time": "2023-09-06T09:48:30.604359",
     "exception": false,
     "start_time": "2023-09-06T09:48:30.584624",
     "status": "completed"
    },
    "tags": []
   },
   "source": [
    "---\n",
    "\n",
    "\n",
    "\n",
    "\n",
    "*Have questions or comments? Visit the [course discussion forum](https://www.kaggle.com/learn/pandas/discussion) to chat with other learners.*"
   ]
  }
 ],
 "kernelspec": {
  "display_name": "Python 3",
  "language": "python",
  "name": "python3"
 },
 "language_info": {
  "codemirror_mode": {
   "name": "ipython",
   "version": 3
  },
  "file_extension": ".py",
  "mimetype": "text/x-python",
  "name": "python",
  "nbconvert_exporter": "python",
  "pygments_lexer": "ipython3",
  "version": "3.6.4"
 },
 "metadata": {
  "kernelspec": {
   "display_name": "Python 3",
   "language": "python",
   "name": "python3"
  },
  "language_info": {
   "codemirror_mode": {
    "name": "ipython",
    "version": 3
   },
   "file_extension": ".py",
   "mimetype": "text/x-python",
   "name": "python",
   "nbconvert_exporter": "python",
   "pygments_lexer": "ipython3",
   "version": "3.10.12"
  },
  "papermill": {
   "default_parameters": {},
   "duration": 10.794076,
   "end_time": "2023-09-06T09:48:31.347646",
   "environment_variables": {},
   "exception": null,
   "input_path": "__notebook__.ipynb",
   "output_path": "__notebook__.ipynb",
   "parameters": {},
   "start_time": "2023-09-06T09:48:20.553570",
   "version": "2.4.0"
  }
 },
 "nbformat": 4,
 "nbformat_minor": 5
}
